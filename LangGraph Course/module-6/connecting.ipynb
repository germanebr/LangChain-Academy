{
 "cells": [
  {
   "cell_type": "markdown",
   "metadata": {},
   "source": [
    "# Connecting to a LangGraph Platform Deployment\n",
    "\n",
    "## Deployment Creation\n",
    "\n",
    "We just created a [deployment](https://langchain-ai.github.io/langgraph/how-tos/deploy-self-hosted/#how-to-do-a-self-hosted-deployment-of-langgraph) for the `task_maistro` app from module 5.\n",
    "\n",
    "* We used the [the LangGraph CLI](https://langchain-ai.github.io/langgraph/concepts/langgraph_cli/#commands) to build a Docker image for the LangGraph Server with our `task_maistro` graph.\n",
    "* We used the provided `docker-compose.yml` file to create three separate containers based on the services defined: \n",
    "    * `langgraph-redis`: Creates a new container using the official Redis image.\n",
    "    * `langgraph-postgres`: Creates a new container using the official Postgres image.\n",
    "    * `langgraph-api`: Creates a new container using our pre-built `task_maistro` Docker image.\n",
    "\n",
    "```\n",
    "$ cd module-6/deployment\n",
    "$ docker compose up\n",
    "```\n",
    "\n",
    "Once running, we can access the deployment through:\n",
    "      \n",
    "* API: http://localhost:8123\n",
    "* Docs: http://localhost:8123/docs\n",
    "* LangGraph Studio: https://smith.langchain.com/studio/?baseUrl=http://127.0.0.1:8123\n",
    "\n",
    "## Using the API  \n",
    "\n",
    "LangGraph Server exposes [many API endpoints](https://github.com/langchain-ai/agent-protocol) for interacting with the deployed agent.\n",
    "\n",
    "We can group [these endpoints into a few common agent needs](https://github.com/langchain-ai/agent-protocol): \n",
    "\n",
    "* **Runs**: Atomic agent executions\n",
    "* **Threads**: Multi-turn interactions or human in the loop\n",
    "* **Store**: Long-term memory\n",
    "\n",
    "We can test requests directly [in the API docs](http://localhost:8123/docs#tag/thread-runs)."
   ]
  },
  {
   "cell_type": "markdown",
   "metadata": {},
   "source": [
    "## SDK\n",
    "\n",
    "The [LangGraph SDKs](https://langchain-ai.github.io/langgraph/concepts/sdk/) (Python and JS) provide a developer-friendly interface to interact with the LangGraph Server API presented above."
   ]
  },
  {
   "cell_type": "code",
   "execution_count": 1,
   "metadata": {},
   "outputs": [],
   "source": [
    "%%capture --no-stderr\n",
    "%pip install -U langgraph_sdk"
   ]
  },
  {
   "cell_type": "code",
   "execution_count": 3,
   "metadata": {},
   "outputs": [
    {
     "data": {
      "text/plain": [
       "[{'assistant_id': 'ea4ebafa-a81d-5063-a5fa-67c755d98a21',\n",
       "  'graph_id': 'task_maistro',\n",
       "  'created_at': '2024-12-30T21:35:25.486278+00:00',\n",
       "  'updated_at': '2024-12-30T21:35:25.486278+00:00',\n",
       "  'config': {},\n",
       "  'metadata': {'created_by': 'system'},\n",
       "  'version': 1,\n",
       "  'name': 'task_maistro'}]"
      ]
     },
     "execution_count": 3,
     "metadata": {},
     "output_type": "execute_result"
    }
   ],
   "source": [
    "from langgraph_sdk import get_client\n",
    "url_for_cli_deployment = \"http://localhost:8123\"\n",
    "client = get_client(url=url_for_cli_deployment)\n",
    "await client.assistants.search()"
   ]
  },
  {
   "cell_type": "markdown",
   "metadata": {},
   "source": [
    "## Remote Graph\n",
    "\n",
    "If you are working in the LangGraph library, [Remote Graph](https://langchain-ai.github.io/langgraph/how-tos/use-remote-graph/) is also a useful way to connect directly to the graph."
   ]
  },
  {
   "cell_type": "code",
   "execution_count": 4,
   "metadata": {},
   "outputs": [],
   "source": [
    "%%capture --no-stderr\n",
    "%pip install -U langchain_openai langgraph langchain_core"
   ]
  },
  {
   "cell_type": "code",
   "execution_count": 5,
   "metadata": {},
   "outputs": [],
   "source": [
    "from langgraph.pregel.remote import RemoteGraph\n",
    "from langchain_core.messages import convert_to_messages\n",
    "from langchain_core.messages import HumanMessage, SystemMessage\n",
    "\n",
    "# Get remote graph\n",
    "url = \"http://localhost:8123\"\n",
    "graph_name = \"task_maistro\" \n",
    "remote_graph = RemoteGraph(graph_name, url=url)"
   ]
  },
  {
   "cell_type": "markdown",
   "metadata": {},
   "source": [
    "## Runs\n",
    "\n",
    "A \"run\" represents a [single execution](https://github.com/langchain-ai/agent-protocol?tab=readme-ov-file#runs-atomic-agent-executions) of your graph. Each time a client makes a request:\n",
    "\n",
    "1. The HTTP worker generates a unique run ID\n",
    "2. This run and its results are stored in PostgreSQL\n",
    "3. You can query these runs to:\n",
    "   - Check their status\n",
    "   - Get their results\n",
    "   - Track execution history\n",
    "\n",
    "You can see a full set of How To guides for various types of runs [here](https://langchain-ai.github.io/langgraph/how-tos/#runs).\n",
    "\n",
    "Let's looks at a few of the interesting things we can do with runs.\n",
    "\n",
    "### Background Runs\n",
    "\n",
    "The LangGraph server supports two types of runs: \n",
    "\n",
    "* `Fire and forget` - Launch a run in the background, but don’t wait for it to finish\n",
    "* `Waiting on a reply (blocking or polling)` - Launch a run and wait/stream its output\n",
    "\n",
    "Background runs and polling are quite useful when working with long-running agents. \n",
    "\n",
    "Let's [see](https://langchain-ai.github.io/langgraph/cloud/how-tos/background_run/#check-runs-on-thread) how this works:"
   ]
  },
  {
   "cell_type": "code",
   "execution_count": 6,
   "metadata": {},
   "outputs": [],
   "source": [
    "# Create a thread\n",
    "thread = await client.threads.create()"
   ]
  },
  {
   "cell_type": "code",
   "execution_count": 7,
   "metadata": {},
   "outputs": [
    {
     "name": "stdout",
     "output_type": "stream",
     "text": [
      "[]\n"
     ]
    }
   ],
   "source": [
    "# Check any existing runs on a thread\n",
    "thread = await client.threads.create()\n",
    "runs = await client.runs.list(thread[\"thread_id\"])\n",
    "print(runs)"
   ]
  },
  {
   "cell_type": "code",
   "execution_count": 8,
   "metadata": {},
   "outputs": [],
   "source": [
    "# Ensure we've created some ToDos and saved them to my user_id\n",
    "user_input = \"Add a ToDo to finish booking travel to Hong Kong by end of next week. Also, add a ToDo to call parents back about Thanksgiving plans.\"\n",
    "config = {\"configurable\": {\"user_id\": \"German\"}}\n",
    "graph_name = \"task_maistro\" \n",
    "run = await client.runs.create(thread[\"thread_id\"], graph_name, input={\"messages\": [HumanMessage(content=user_input)]}, config=config)"
   ]
  },
  {
   "cell_type": "code",
   "execution_count": 9,
   "metadata": {},
   "outputs": [],
   "source": [
    "# Kick off a new thread and a new run\n",
    "thread = await client.threads.create()\n",
    "user_input = \"Give me a summary of all ToDos.\"\n",
    "config = {\"configurable\": {\"user_id\": \"German\"}}\n",
    "graph_name = \"task_maistro\" \n",
    "run = await client.runs.create(thread[\"thread_id\"], graph_name, input={\"messages\": [HumanMessage(content=user_input)]}, config=config)\n"
   ]
  },
  {
   "cell_type": "code",
   "execution_count": 10,
   "metadata": {},
   "outputs": [
    {
     "name": "stdout",
     "output_type": "stream",
     "text": [
      "{'run_id': '1efc6f7f-8d94-63a0-93a5-86849e603374', 'thread_id': 'e59e2ada-2e64-48a6-bf5a-0c3b389fff12', 'assistant_id': 'ea4ebafa-a81d-5063-a5fa-67c755d98a21', 'created_at': '2024-12-30T21:49:40.612250+00:00', 'updated_at': '2024-12-30T21:49:40.612250+00:00', 'metadata': {}, 'status': 'success', 'kwargs': {'input': {'messages': [{'id': None, 'name': None, 'type': 'human', 'content': 'Give me a summary of all ToDos.', 'example': False, 'additional_kwargs': {}, 'response_metadata': {}}]}, 'config': {'metadata': {'created_by': 'system'}, 'configurable': {'run_id': '1efc6f7f-8d94-63a0-93a5-86849e603374', 'user_id': 'German', 'graph_id': 'task_maistro', 'thread_id': 'e59e2ada-2e64-48a6-bf5a-0c3b389fff12', 'assistant_id': 'ea4ebafa-a81d-5063-a5fa-67c755d98a21', 'langgraph_auth_user': None, 'langgraph_auth_user_id': ''}}, 'command': None, 'webhook': None, 'subgraphs': False, 'temporary': False, 'stream_mode': ['values'], 'feedback_keys': None, 'interrupt_after': None, 'interrupt_before': None}, 'multitask_strategy': 'reject'}\n"
     ]
    }
   ],
   "source": [
    "# Check the run status\n",
    "print(await client.runs.get(thread[\"thread_id\"], run[\"run_id\"]))"
   ]
  },
  {
   "cell_type": "markdown",
   "metadata": {},
   "source": [
    "We can see that it has `'status': 'pending'` because it is still running.\n",
    "\n",
    "What if we want to wait until the run completes, making it a blocking run?\n",
    "\n",
    "We can use `client.runs.join` to wait until the run completes.\n",
    "\n",
    "This ensures that no new runs are started until the current run completes on the thread."
   ]
  },
  {
   "cell_type": "code",
   "execution_count": 11,
   "metadata": {},
   "outputs": [
    {
     "name": "stdout",
     "output_type": "stream",
     "text": [
      "{'run_id': '1efc6f7f-8d94-63a0-93a5-86849e603374', 'thread_id': 'e59e2ada-2e64-48a6-bf5a-0c3b389fff12', 'assistant_id': 'ea4ebafa-a81d-5063-a5fa-67c755d98a21', 'created_at': '2024-12-30T21:49:40.612250+00:00', 'updated_at': '2024-12-30T21:49:40.612250+00:00', 'metadata': {}, 'status': 'success', 'kwargs': {'input': {'messages': [{'id': None, 'name': None, 'type': 'human', 'content': 'Give me a summary of all ToDos.', 'example': False, 'additional_kwargs': {}, 'response_metadata': {}}]}, 'config': {'metadata': {'created_by': 'system'}, 'configurable': {'run_id': '1efc6f7f-8d94-63a0-93a5-86849e603374', 'user_id': 'German', 'graph_id': 'task_maistro', 'thread_id': 'e59e2ada-2e64-48a6-bf5a-0c3b389fff12', 'assistant_id': 'ea4ebafa-a81d-5063-a5fa-67c755d98a21', 'langgraph_auth_user': None, 'langgraph_auth_user_id': ''}}, 'command': None, 'webhook': None, 'subgraphs': False, 'temporary': False, 'stream_mode': ['values'], 'feedback_keys': None, 'interrupt_after': None, 'interrupt_before': None}, 'multitask_strategy': 'reject'}\n"
     ]
    }
   ],
   "source": [
    "# Wait until the run completes\n",
    "await client.runs.join(thread[\"thread_id\"], run[\"run_id\"])\n",
    "print(await client.runs.get(thread[\"thread_id\"], run[\"run_id\"]))"
   ]
  },
  {
   "cell_type": "markdown",
   "metadata": {},
   "source": [
    "Now the run has `'status': 'success'` because it has completed."
   ]
  },
  {
   "cell_type": "markdown",
   "metadata": {},
   "source": [
    "### Streaming Runs\n",
    "\n",
    "Each time a client makes a streaming request:\n",
    "\n",
    "1. The HTTP worker generates a unique run ID\n",
    "2. The Queue worker begins work on the run \n",
    "3. During execution, the Queue worker publishes update to Redis\n",
    "4. The HTTP worker subscribes to updates from Redis for ths run, and returns them to the client \n",
    "\n",
    "This enabled streaming! \n",
    "\n",
    "We've covered [streaming](https://langchain-ai.github.io/langgraph/how-tos/#streaming_1) in previous modules, but let's pick one method -- streaming tokens -- to highlight.\n",
    "\n",
    "Streaming tokens back to the client is especially useful when working with production agents that may take a while to complete.\n",
    "\n",
    "We [stream tokens](https://langchain-ai.github.io/langgraph/cloud/how-tos/stream_messages/#setup) using `stream_mode=\"messages-tuple\"`."
   ]
  },
  {
   "cell_type": "code",
   "execution_count": 12,
   "metadata": {},
   "outputs": [
    {
     "name": "stdout",
     "output_type": "stream",
     "text": [
      "Since you have a task with a deadline, it would be wise to focus on the travel booking for Hong Kong first. Here are the details:\n",
      "\n",
      "- **Task:** Finish booking travel to Hong Kong\n",
      "  - **Deadline:** January 5, 2024\n",
      "  - **Time to Complete:** 120 minutes\n",
      "  - **Solutions:** \n",
      "    - Check flight options\n",
      "    - Book accommodation\n",
      "    - Plan itinerary\n",
      "\n",
      "Completing this task will help ensure that your travel plans are finalized well before the deadline. After that, you can call your parents about Thanksgiving plans. \n",
      "\n",
      "Let me know if you want to prioritize or update any tasks!"
     ]
    }
   ],
   "source": [
    "user_input = \"What ToDo should I focus on first.\"\n",
    "async for chunk in client.runs.stream(thread[\"thread_id\"], \n",
    "                                      graph_name, \n",
    "                                      input={\"messages\": [HumanMessage(content=user_input)]},\n",
    "                                      config=config,\n",
    "                                      stream_mode=\"messages-tuple\"):\n",
    "\n",
    "    if chunk.event == \"messages\":\n",
    "        print(\"\".join(data_item['content'] for data_item in chunk.data if 'content' in data_item), end=\"\", flush=True)"
   ]
  },
  {
   "cell_type": "markdown",
   "metadata": {},
   "source": [
    "## Threads\n",
    "\n",
    "Whereas a run is only a single execution of the graph, a thread supports *multi-turn* interactions.\n",
    "\n",
    "When the client makes a graph execution execution with a `thread_id`, the server will save all [checkpoints](https://langchain-ai.github.io/langgraph/concepts/persistence/#checkpoints) (steps) in the run to the thread in the Postgres database.\n",
    "\n",
    "The server allows us to [check the status of created threads](https://langchain-ai.github.io/langgraph/cloud/how-tos/check_thread_status/).\n",
    "\n",
    "### Check thread state\n",
    "\n",
    "In addition, we can easily access the state [checkpoints](https://langchain-ai.github.io/langgraph/concepts/persistence/#checkpoints) saved to any specific thread."
   ]
  },
  {
   "cell_type": "code",
   "execution_count": 13,
   "metadata": {},
   "outputs": [
    {
     "name": "stdout",
     "output_type": "stream",
     "text": [
      "================================\u001b[1m Human Message \u001b[0m=================================\n",
      "\n",
      "Give me a summary of all ToDos.\n",
      "==================================\u001b[1m Ai Message \u001b[0m==================================\n",
      "\n",
      "Here’s a summary of your current ToDo list:\n",
      "\n",
      "1. **Task:** Call parents back about Thanksgiving plans\n",
      "   - **Status:** Not started\n",
      "   - **Deadline:** None\n",
      "   - **Time to Complete:** 30 minutes\n",
      "\n",
      "2. **Task:** Finish booking travel to Hong Kong\n",
      "   - **Status:** Not started\n",
      "   - **Deadline:** January 5, 2024\n",
      "   - **Solutions:** \n",
      "     - Check flight options\n",
      "     - Book accommodation\n",
      "     - Plan itinerary\n",
      "   - **Time to Complete:** 120 minutes\n",
      "\n",
      "3. **Task:** Finish booking travel to Hong Kong (duplicate)\n",
      "   - **Status:** Not started\n",
      "   - **Deadline:** January 5, 2024\n",
      "   - **Solutions:** \n",
      "     - Check flight options\n",
      "     - Book accommodation\n",
      "     - Plan itinerary\n",
      "   - **Time to Complete:** 120 minutes\n",
      "\n",
      "Let me know if you need to make any updates or changes!\n",
      "================================\u001b[1m Human Message \u001b[0m=================================\n",
      "\n",
      "What ToDo should I focus on first.\n",
      "==================================\u001b[1m Ai Message \u001b[0m==================================\n",
      "\n",
      "Since you have a task with a deadline, it would be wise to focus on the travel booking for Hong Kong first. Here are the details:\n",
      "\n",
      "- **Task:** Finish booking travel to Hong Kong\n",
      "  - **Deadline:** January 5, 2024\n",
      "  - **Time to Complete:** 120 minutes\n",
      "  - **Solutions:** \n",
      "    - Check flight options\n",
      "    - Book accommodation\n",
      "    - Plan itinerary\n",
      "\n",
      "Completing this task will help ensure that your travel plans are finalized well before the deadline. After that, you can call your parents about Thanksgiving plans. \n",
      "\n",
      "Let me know if you want to prioritize or update any tasks!\n"
     ]
    }
   ],
   "source": [
    "thread_state = await client.threads.get_state(thread['thread_id'])\n",
    "for m in convert_to_messages(thread_state['values']['messages']):\n",
    "    m.pretty_print()"
   ]
  },
  {
   "cell_type": "markdown",
   "metadata": {},
   "source": [
    "### Copy threads\n",
    "\n",
    "We can also [copy](https://langchain-ai.github.io/langgraph/cloud/how-tos/copy_threads/) (i.e. \"fork\") an existing thread. \n",
    "\n",
    "This will keep the existing thread's history, but allow us to create independent runs that do not affect the original thread."
   ]
  },
  {
   "cell_type": "code",
   "execution_count": 14,
   "metadata": {},
   "outputs": [],
   "source": [
    "# Copy the thread\n",
    "copied_thread = await client.threads.copy(thread['thread_id'])"
   ]
  },
  {
   "cell_type": "code",
   "execution_count": 15,
   "metadata": {},
   "outputs": [
    {
     "name": "stdout",
     "output_type": "stream",
     "text": [
      "================================\u001b[1m Human Message \u001b[0m=================================\n",
      "\n",
      "Give me a summary of all ToDos.\n",
      "==================================\u001b[1m Ai Message \u001b[0m==================================\n",
      "\n",
      "Here’s a summary of your current ToDo list:\n",
      "\n",
      "1. **Task:** Call parents back about Thanksgiving plans\n",
      "   - **Status:** Not started\n",
      "   - **Deadline:** None\n",
      "   - **Time to Complete:** 30 minutes\n",
      "\n",
      "2. **Task:** Finish booking travel to Hong Kong\n",
      "   - **Status:** Not started\n",
      "   - **Deadline:** January 5, 2024\n",
      "   - **Solutions:** \n",
      "     - Check flight options\n",
      "     - Book accommodation\n",
      "     - Plan itinerary\n",
      "   - **Time to Complete:** 120 minutes\n",
      "\n",
      "3. **Task:** Finish booking travel to Hong Kong (duplicate)\n",
      "   - **Status:** Not started\n",
      "   - **Deadline:** January 5, 2024\n",
      "   - **Solutions:** \n",
      "     - Check flight options\n",
      "     - Book accommodation\n",
      "     - Plan itinerary\n",
      "   - **Time to Complete:** 120 minutes\n",
      "\n",
      "Let me know if you need to make any updates or changes!\n",
      "================================\u001b[1m Human Message \u001b[0m=================================\n",
      "\n",
      "What ToDo should I focus on first.\n",
      "==================================\u001b[1m Ai Message \u001b[0m==================================\n",
      "\n",
      "Since you have a task with a deadline, it would be wise to focus on the travel booking for Hong Kong first. Here are the details:\n",
      "\n",
      "- **Task:** Finish booking travel to Hong Kong\n",
      "  - **Deadline:** January 5, 2024\n",
      "  - **Time to Complete:** 120 minutes\n",
      "  - **Solutions:** \n",
      "    - Check flight options\n",
      "    - Book accommodation\n",
      "    - Plan itinerary\n",
      "\n",
      "Completing this task will help ensure that your travel plans are finalized well before the deadline. After that, you can call your parents about Thanksgiving plans. \n",
      "\n",
      "Let me know if you want to prioritize or update any tasks!\n"
     ]
    }
   ],
   "source": [
    "# Check the state of the copied thread\n",
    "copied_thread_state = await client.threads.get_state(copied_thread['thread_id'])\n",
    "for m in convert_to_messages(copied_thread_state['values']['messages']):\n",
    "    m.pretty_print()"
   ]
  },
  {
   "cell_type": "markdown",
   "metadata": {},
   "source": [
    "### Human in the loop\n",
    "\n",
    "We covered [Human in the loop](https://langchain-ai.github.io/langgraph/how-tos/human_in_the_loop/) in Module 3, and the server supports all Human in the loop features that we discussed.\n",
    "\n",
    "As an example, [we can search, edit, and continue graph execution](https://langchain-ai.github.io/langgraph/concepts/persistence/#capabilities) from any prior checkpoint. "
   ]
  },
  {
   "cell_type": "code",
   "execution_count": 16,
   "metadata": {},
   "outputs": [
    {
     "data": {
      "text/plain": [
       "{'messages': [{'content': 'Give me a summary of all ToDos.',\n",
       "   'additional_kwargs': {'example': False,\n",
       "    'additional_kwargs': {},\n",
       "    'response_metadata': {}},\n",
       "   'response_metadata': {},\n",
       "   'type': 'human',\n",
       "   'name': None,\n",
       "   'id': 'b703ceff-f28e-4e94-86d5-e4ee638ad212',\n",
       "   'example': False}]}"
      ]
     },
     "execution_count": 16,
     "metadata": {},
     "output_type": "execute_result"
    }
   ],
   "source": [
    "# Get the history of the thread\n",
    "states = await client.threads.get_history(thread['thread_id'])\n",
    "\n",
    "# Pick a state update to fork\n",
    "to_fork = states[-2]\n",
    "to_fork['values']"
   ]
  },
  {
   "cell_type": "code",
   "execution_count": 17,
   "metadata": {},
   "outputs": [
    {
     "data": {
      "text/plain": [
       "'b703ceff-f28e-4e94-86d5-e4ee638ad212'"
      ]
     },
     "execution_count": 17,
     "metadata": {},
     "output_type": "execute_result"
    }
   ],
   "source": [
    "to_fork['values']['messages'][0]['id']"
   ]
  },
  {
   "cell_type": "code",
   "execution_count": 18,
   "metadata": {},
   "outputs": [
    {
     "data": {
      "text/plain": [
       "['task_mAIstro']"
      ]
     },
     "execution_count": 18,
     "metadata": {},
     "output_type": "execute_result"
    }
   ],
   "source": [
    "to_fork['next']"
   ]
  },
  {
   "cell_type": "code",
   "execution_count": 19,
   "metadata": {},
   "outputs": [
    {
     "data": {
      "text/plain": [
       "'1efc6f7f-8f82-6dbe-8000-ede4041ad1c3'"
      ]
     },
     "execution_count": 19,
     "metadata": {},
     "output_type": "execute_result"
    }
   ],
   "source": [
    "to_fork['checkpoint_id']"
   ]
  },
  {
   "cell_type": "markdown",
   "metadata": {},
   "source": [
    "Let's edit the state. Remember how our reducer on `messages` works: \n",
    "\n",
    "* It will append, unless we supply a message ID.\n",
    "* We supply the message ID to overwrite the message, rather than appending to state!"
   ]
  },
  {
   "cell_type": "code",
   "execution_count": 20,
   "metadata": {},
   "outputs": [],
   "source": [
    "forked_input = {\"messages\": HumanMessage(content=\"Give me a summary of all ToDos that need to be done in the next week.\",\n",
    "                                         id=to_fork['values']['messages'][0]['id'])}\n",
    "\n",
    "# Update the state, creating a new checkpoint in the thread\n",
    "forked_config = await client.threads.update_state(\n",
    "    thread[\"thread_id\"],\n",
    "    forked_input,\n",
    "    checkpoint_id=to_fork['checkpoint_id']\n",
    ")"
   ]
  },
  {
   "cell_type": "code",
   "execution_count": 21,
   "metadata": {},
   "outputs": [
    {
     "name": "stdout",
     "output_type": "stream",
     "text": [
      "Here are the tasks from your ToDo list that need to be completed in the next week:\n",
      "\n",
      "1. **Call parents back about Thanksgiving plans**\n",
      "   - Status: Not started\n",
      "   - Deadline: None\n",
      "   - Time to complete: 30 minutes\n",
      "\n",
      "2. **Finish booking travel to Hong Kong**\n",
      "   - Status: Not started\n",
      "   - Deadline: January 5, 2024\n",
      "   - Solutions: \n",
      "     - Check flight options\n",
      "     - Book accommodation\n",
      "     - Plan itinerary\n",
      "   - Time to complete: 120 minutes\n",
      "\n",
      "Currently, there are no tasks with a deadline within the next week. Would you like to add any new tasks or update any existing ones?"
     ]
    }
   ],
   "source": [
    "# Run the graph from the new checkpoint in the thread\n",
    "async for chunk in client.runs.stream(thread[\"thread_id\"], \n",
    "                                      graph_name, \n",
    "                                      input=None,\n",
    "                                      config=config,\n",
    "                                      checkpoint_id=forked_config['checkpoint_id'],\n",
    "                                      stream_mode=\"messages-tuple\"):\n",
    "\n",
    "    if chunk.event == \"messages\":\n",
    "        print(\"\".join(data_item['content'] for data_item in chunk.data if 'content' in data_item), end=\"\", flush=True)"
   ]
  },
  {
   "cell_type": "markdown",
   "metadata": {},
   "source": [
    "## Across-thread memory\n",
    "\n",
    "In module 5, we covered how the [LangGraph memory `store`](https://langchain-ai.github.io/langgraph/concepts/persistence/#memory-store) can be used to save information across threads.\n",
    "\n",
    "Our deployed graph, `task_maistro`, uses the `store` to save information -- such as ToDos -- namespaced to the `user_id`.\n",
    "\n",
    "Our deployment includes a Postgres database, which stores these long-term (across-thread) memories.\n",
    "\n",
    "There are several methods available [for interacting with the store](https://langchain-ai.github.io/langgraph/cloud/reference/sdk/python_sdk_ref/#langgraph_sdk.client.StoreClient) in our deployment using the LangGraph SDK.\n",
    "\n",
    "### Search items\n",
    "\n",
    "The `task_maistro` graph uses the `store` to save ToDos namespaced to (`todo`, `user_id`). \n",
    "\n",
    "We can simply supply this tuple to search for all ToDos. "
   ]
  },
  {
   "cell_type": "code",
   "execution_count": 23,
   "metadata": {},
   "outputs": [
    {
     "data": {
      "text/plain": [
       "[{'namespace': ['todo', 'German'],\n",
       "  'key': '2b71b462-ad52-4f61-976f-1baf603ebfa3',\n",
       "  'value': {'task': 'Call parents back about Thanksgiving plans',\n",
       "   'status': 'not started',\n",
       "   'deadline': None,\n",
       "   'solutions': [],\n",
       "   'time_to_complete': 30},\n",
       "  'created_at': '2024-12-30T21:49:40.295158+00:00',\n",
       "  'updated_at': '2024-12-30T21:49:40.295158+00:00',\n",
       "  'score': None},\n",
       " {'namespace': ['todo', 'German'],\n",
       "  'key': 'eeec038d-301b-4ce6-895c-acd90b982a4e',\n",
       "  'value': {'task': 'Finish booking travel to Hong Kong',\n",
       "   'status': 'not started',\n",
       "   'deadline': '2024-01-05T21:49:35.285017',\n",
       "   'solutions': ['Check flight options',\n",
       "    'Book accommodation',\n",
       "    'Plan itinerary'],\n",
       "   'time_to_complete': 120},\n",
       "  'created_at': '2024-12-30T21:49:40.291384+00:00',\n",
       "  'updated_at': '2024-12-30T21:49:40.291384+00:00',\n",
       "  'score': None},\n",
       " {'namespace': ['todo', 'German'],\n",
       "  'key': 'a92cb3ce-14c4-44a3-80fd-4a3370693443',\n",
       "  'value': {'task': 'Finish booking travel to Hong Kong',\n",
       "   'status': 'not started',\n",
       "   'deadline': '2024-01-05T21:49:35.285017',\n",
       "   'solutions': ['Check flight options',\n",
       "    'Book accommodation',\n",
       "    'Plan itinerary'],\n",
       "   'time_to_complete': 120},\n",
       "  'created_at': '2024-12-30T21:49:36.997040+00:00',\n",
       "  'updated_at': '2024-12-30T21:49:36.997040+00:00',\n",
       "  'score': None}]"
      ]
     },
     "execution_count": 23,
     "metadata": {},
     "output_type": "execute_result"
    }
   ],
   "source": [
    "items = await client.store.search_items(\n",
    "    (\"todo\", \"German\"),\n",
    "    limit=5,\n",
    "    offset=0\n",
    ")\n",
    "items['items']"
   ]
  },
  {
   "cell_type": "markdown",
   "metadata": {},
   "source": [
    "### Delete items\n",
    "\n",
    "We can use the SDK to [delete items](https://langchain-ai.github.io/langgraph/cloud/reference/sdk/python_sdk_ref/#langgraph_sdk.client.StoreClient.delete_item) from the store by key."
   ]
  },
  {
   "cell_type": "code",
   "execution_count": 24,
   "metadata": {},
   "outputs": [
    {
     "data": {
      "text/plain": [
       "['2b71b462-ad52-4f61-976f-1baf603ebfa3',\n",
       " 'eeec038d-301b-4ce6-895c-acd90b982a4e',\n",
       " 'a92cb3ce-14c4-44a3-80fd-4a3370693443']"
      ]
     },
     "execution_count": 24,
     "metadata": {},
     "output_type": "execute_result"
    }
   ],
   "source": [
    "[item['key'] for item in items['items']]"
   ]
  },
  {
   "cell_type": "code",
   "execution_count": 25,
   "metadata": {},
   "outputs": [],
   "source": [
    "await client.store.delete_item(\n",
    "        (\"todo\", \"German\"),\n",
    "        key=\"a92cb3ce-14c4-44a3-80fd-4a3370693443\",\n",
    "    )"
   ]
  },
  {
   "cell_type": "markdown",
   "metadata": {},
   "source": []
  },
  {
   "cell_type": "code",
   "execution_count": 26,
   "metadata": {},
   "outputs": [
    {
     "data": {
      "text/plain": [
       "[{'namespace': ['todo', 'German'],\n",
       "  'key': '2b71b462-ad52-4f61-976f-1baf603ebfa3',\n",
       "  'value': {'task': 'Call parents back about Thanksgiving plans',\n",
       "   'status': 'not started',\n",
       "   'deadline': None,\n",
       "   'solutions': [],\n",
       "   'time_to_complete': 30},\n",
       "  'created_at': '2024-12-30T21:49:40.295158+00:00',\n",
       "  'updated_at': '2024-12-30T21:49:40.295158+00:00',\n",
       "  'score': None},\n",
       " {'namespace': ['todo', 'German'],\n",
       "  'key': 'eeec038d-301b-4ce6-895c-acd90b982a4e',\n",
       "  'value': {'task': 'Finish booking travel to Hong Kong',\n",
       "   'status': 'not started',\n",
       "   'deadline': '2024-01-05T21:49:35.285017',\n",
       "   'solutions': ['Check flight options',\n",
       "    'Book accommodation',\n",
       "    'Plan itinerary'],\n",
       "   'time_to_complete': 120},\n",
       "  'created_at': '2024-12-30T21:49:40.291384+00:00',\n",
       "  'updated_at': '2024-12-30T21:49:40.291384+00:00',\n",
       "  'score': None}]"
      ]
     },
     "execution_count": 26,
     "metadata": {},
     "output_type": "execute_result"
    }
   ],
   "source": [
    "items = await client.store.search_items(\n",
    "    (\"todo\", \"German\"),\n",
    "    limit=5,\n",
    "    offset=0\n",
    ")\n",
    "items['items']"
   ]
  },
  {
   "cell_type": "markdown",
   "metadata": {},
   "source": []
  }
 ],
 "metadata": {
  "kernelspec": {
   "display_name": ".venv",
   "language": "python",
   "name": "python3"
  },
  "language_info": {
   "codemirror_mode": {
    "name": "ipython",
    "version": 3
   },
   "file_extension": ".py",
   "mimetype": "text/x-python",
   "name": "python",
   "nbconvert_exporter": "python",
   "pygments_lexer": "ipython3",
   "version": "3.12.8"
  }
 },
 "nbformat": 4,
 "nbformat_minor": 4
}
